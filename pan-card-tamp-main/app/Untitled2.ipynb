{
 "cells": [
  {
   "cell_type": "code",
   "execution_count": 1,
   "id": "805899df",
   "metadata": {},
   "outputs": [
    {
     "ename": "NameError",
     "evalue": "name '__file__' is not defined",
     "output_type": "error",
     "traceback": [
      "\u001b[1;31m---------------------------------------------------------------------------\u001b[0m",
      "\u001b[1;31mNameError\u001b[0m                                 Traceback (most recent call last)",
      "Cell \u001b[1;32mIn[1], line 4\u001b[0m\n\u001b[0;32m      1\u001b[0m \u001b[38;5;28;01mimport\u001b[39;00m \u001b[38;5;21;01mos\u001b[39;00m\n\u001b[0;32m      2\u001b[0m \u001b[38;5;28;01mfrom\u001b[39;00m   \u001b[38;5;21;01mos\u001b[39;00m \u001b[38;5;28;01mimport\u001b[39;00m environ\n\u001b[1;32m----> 4\u001b[0m \u001b[38;5;28;01mclass\u001b[39;00m \u001b[38;5;21;01mConfig\u001b[39;00m(\u001b[38;5;28mobject\u001b[39m):\n\u001b[0;32m      6\u001b[0m     DEBUG \u001b[38;5;241m=\u001b[39m \u001b[38;5;28;01mFalse\u001b[39;00m\n\u001b[0;32m      7\u001b[0m     TESTING \u001b[38;5;241m=\u001b[39m \u001b[38;5;28;01mFalse\u001b[39;00m\n",
      "Cell \u001b[1;32mIn[1], line 9\u001b[0m, in \u001b[0;36mConfig\u001b[1;34m()\u001b[0m\n\u001b[0;32m      6\u001b[0m DEBUG \u001b[38;5;241m=\u001b[39m \u001b[38;5;28;01mFalse\u001b[39;00m\n\u001b[0;32m      7\u001b[0m TESTING \u001b[38;5;241m=\u001b[39m \u001b[38;5;28;01mFalse\u001b[39;00m\n\u001b[1;32m----> 9\u001b[0m basedir    \u001b[38;5;241m=\u001b[39m os\u001b[38;5;241m.\u001b[39mpath\u001b[38;5;241m.\u001b[39mabspath(os\u001b[38;5;241m.\u001b[39mpath\u001b[38;5;241m.\u001b[39mdirname(\u001b[38;5;18;43m__file__\u001b[39;49m))\n\u001b[0;32m     11\u001b[0m SECRET_KEY \u001b[38;5;241m=\u001b[39m \u001b[38;5;124m'\u001b[39m\u001b[38;5;124mpianalytix\u001b[39m\u001b[38;5;124m'\u001b[39m\n\u001b[0;32m     13\u001b[0m DB_NAME \u001b[38;5;241m=\u001b[39m \u001b[38;5;124m\"\u001b[39m\u001b[38;5;124mproduction-db\u001b[39m\u001b[38;5;124m\"\u001b[39m\n",
      "\u001b[1;31mNameError\u001b[0m: name '__file__' is not defined"
     ]
    }
   ],
   "source": [
    "import os\n",
    "from   os import environ\n",
    "\n",
    "class Config(object):\n",
    "\n",
    "    DEBUG = False\n",
    "    TESTING = False\n",
    "    \n",
    "    basedir    = os.path.abspath(os.path.dirname(__file__))\n",
    "\n",
    "    SECRET_KEY = 'pianalytix'\n",
    "\n",
    "    DB_NAME = \"production-db\"\n",
    "    DB_USERNAME = \"root\"\n",
    "    DB_PASSWORD = \"pianalytix\"\n",
    "\n",
    "    UPLOADS = \"/home/username/app/app/static/uploads\"\n",
    "\n",
    "    SESSION_COOKIE_SECURE = True\n",
    "    DEFAULT_THEME = None\n",
    "\n",
    "\n",
    "class ProductionConfig(Config):\n",
    "    pass\n",
    "\n",
    "class DevelopmentConfig(Config):\n",
    "    DEBUG = True\n",
    "\n",
    "    DB_NAME = \"production-db\"\n",
    "    DB_USERNAME = \"root\"\n",
    "    DB_PASSWORD = \"pianalytix\"\n",
    "\n",
    "    UPLOADS = \"/home/username/app/app/static/uploads\"\n",
    "    SESSION_COOKIE_SECURE = False\n",
    "\n",
    "\n",
    "class TestingConfig(Config):\n",
    "    DEBUG = True\n",
    "\n",
    "    DB_NAME = \"production-db\"\n",
    "    DB_USERNAME = \"root\"\n",
    "    DB_PASSWORD = \"pianalytix\"\n",
    "\n",
    "    UPLOADS = \"/home/username/app/app/static/uploads\"\n",
    "    SESSION_COOKIE_SECURE = False\n",
    "\n",
    " \n",
    "class DebugConfig(Config):\n",
    "    DEBUG = False\n"
   ]
  },
  {
   "cell_type": "code",
   "execution_count": null,
   "id": "6a5c7c74",
   "metadata": {},
   "outputs": [],
   "source": []
  }
 ],
 "metadata": {
  "kernelspec": {
   "display_name": "Python 3 (ipykernel)",
   "language": "python",
   "name": "python3"
  },
  "language_info": {
   "codemirror_mode": {
    "name": "ipython",
    "version": 3
   },
   "file_extension": ".py",
   "mimetype": "text/x-python",
   "name": "python",
   "nbconvert_exporter": "python",
   "pygments_lexer": "ipython3",
   "version": "3.10.9"
  }
 },
 "nbformat": 4,
 "nbformat_minor": 5
}
